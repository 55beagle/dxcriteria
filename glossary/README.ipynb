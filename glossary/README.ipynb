{
 "cells": [
  {
   "cell_type": "markdown",
   "metadata": {},
   "source": [
    "# DX Criteria用語集プロジェクト"
   ]
  },
  {
   "cell_type": "markdown",
   "metadata": {},
   "source": [
    "DX Criteria（以下、DXC）を普及させていく上で、設問や説明に含まれる重要な用語について説明を加えた内容を一覧できるようにすると、よりよい理解につながるのではないかと考えます。そこで、DXCに含まれる文章から重要だと思われる用語を抜き出し、用語集を作ることにします。"
   ]
  },
  {
   "cell_type": "markdown",
   "metadata": {},
   "source": [
    "## 本プロジェクトにコントリビュートするには"
   ]
  },
  {
   "cell_type": "markdown",
   "metadata": {},
   "source": [
    "以下のファイルに用語集の元データが含まれていますので、本プロジェクトにコントリビュートしたい方は、\n",
    "\n",
    "1. 用語を選んで内容を[用語集の元データ](./glossary.json)に記入\n",
    "2. `npm run build`を実行\n",
    "3. Pull Requestを送信\n",
    "\n",
    "という手順を踏んでください。"
   ]
  },
  {
   "cell_type": "markdown",
   "metadata": {},
   "source": [
    "----"
   ]
  },
  {
   "cell_type": "markdown",
   "metadata": {},
   "source": [
    "## 用語の抽出プロセス"
   ]
  },
  {
   "cell_type": "markdown",
   "metadata": {},
   "source": [
    "以下に記載するのは、本プロジェクトの枠組みを作る上で、どのように用語の抽出を行ったかというプロセスを記録するものです。用語集の充実にコントリビュートsる\n",
    "\n",
    "技術的な詳細について知りたい方は御覧ください。"
   ]
  }
 ],
 "metadata": {
  "kernelspec": {
   "display_name": "Python 3",
   "language": "python",
   "name": "python3"
  },
  "language_info": {
   "codemirror_mode": {
    "name": "ipython",
    "version": 3
   },
   "file_extension": ".py",
   "mimetype": "text/x-python",
   "name": "python",
   "nbconvert_exporter": "python",
   "pygments_lexer": "ipython3",
   "version": "3.7.4"
  }
 },
 "nbformat": 4,
 "nbformat_minor": 4
}
